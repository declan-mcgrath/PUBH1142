{
 "cells": [
  {
   "cell_type": "markdown",
   "metadata": {},
   "source": [
    "# Hospitalization of People with Asthma in California"
   ]
  },
  {
   "cell_type": "markdown",
   "metadata": {},
   "source": [
    "> ## Declan McGrath"
   ]
  },
  {
   "cell_type": "markdown",
   "metadata": {},
   "source": [
    "### Introduction\n",
    "\n",
    "Background of asthma and contextualization of California and asthma."
   ]
  },
  {
   "cell_type": "code",
   "execution_count": 5,
   "metadata": {},
   "outputs": [],
   "source": [
    "import pandas as pd\n",
    "import numpy as np\n",
    "\n",
    "df = pd.read_csv(\"C:/Users/decla/OneDrive/PUBH 1142/asthmadata.csv\")\n"
   ]
  },
  {
   "cell_type": "markdown",
   "metadata": {},
   "source": [
    "### Data Verification"
   ]
  },
  {
   "cell_type": "code",
   "execution_count": 6,
   "metadata": {},
   "outputs": [
    {
     "data": {
      "text/plain": [
       "Index(['COUNTY', 'YEAR', 'STRATA', 'STRATA NAME', 'AGE GROUP',\n",
       "       'NUMBER OF ED VISITS', 'AGE-ADJUSTED ED VISIT RATE', 'COMMENT'],\n",
       "      dtype='object')"
      ]
     },
     "execution_count": 6,
     "metadata": {},
     "output_type": "execute_result"
    }
   ],
   "source": [
    "df.columns"
   ]
  },
  {
   "cell_type": "markdown",
   "metadata": {},
   "source": [
    "- COUNTY: county of California or California itself\n",
    "- YEAR: year data was taken\n",
    "- STRATA: demographics of population data taken from\n",
    "- STRATA NAME: specific category of demographic\n",
    "- AGE GROUP: ages represented in ranges (eg. 0-17, 18+) or an absolute (all ages)\n",
    "- NUMBER OF ED VISITS: amount of times people with asthma went to to emergency room\n",
    "- AGE-ADJUSTED ED VISIT RATE: standardized rate that allows for populations of different age distributions to be compared to each other\n",
    "- COMMENT: clarifications left by the researchers on certain data points"
   ]
  },
  {
   "cell_type": "code",
   "execution_count": 7,
   "metadata": {},
   "outputs": [
    {
     "data": {
      "text/html": [
       "<div>\n",
       "<style scoped>\n",
       "    .dataframe tbody tr th:only-of-type {\n",
       "        vertical-align: middle;\n",
       "    }\n",
       "\n",
       "    .dataframe tbody tr th {\n",
       "        vertical-align: top;\n",
       "    }\n",
       "\n",
       "    .dataframe thead th {\n",
       "        text-align: right;\n",
       "    }\n",
       "</style>\n",
       "<table border=\"1\" class=\"dataframe\">\n",
       "  <thead>\n",
       "    <tr style=\"text-align: right;\">\n",
       "      <th></th>\n",
       "      <th>COUNTY</th>\n",
       "      <th>YEAR</th>\n",
       "      <th>STRATA</th>\n",
       "      <th>STRATA NAME</th>\n",
       "      <th>AGE GROUP</th>\n",
       "      <th>NUMBER OF ED VISITS</th>\n",
       "      <th>AGE-ADJUSTED ED VISIT RATE</th>\n",
       "      <th>COMMENT</th>\n",
       "    </tr>\n",
       "  </thead>\n",
       "  <tbody>\n",
       "    <tr>\n",
       "      <th>0</th>\n",
       "      <td>California</td>\n",
       "      <td>2015</td>\n",
       "      <td>Total population</td>\n",
       "      <td>All ages</td>\n",
       "      <td>All ages</td>\n",
       "      <td>191,904</td>\n",
       "      <td>50.4</td>\n",
       "      <td>NaN</td>\n",
       "    </tr>\n",
       "    <tr>\n",
       "      <th>1</th>\n",
       "      <td>Alameda</td>\n",
       "      <td>2015</td>\n",
       "      <td>Total population</td>\n",
       "      <td>All ages</td>\n",
       "      <td>All ages</td>\n",
       "      <td>9,939</td>\n",
       "      <td>64.3</td>\n",
       "      <td>NaN</td>\n",
       "    </tr>\n",
       "    <tr>\n",
       "      <th>2</th>\n",
       "      <td>Alpine</td>\n",
       "      <td>2015</td>\n",
       "      <td>Total population</td>\n",
       "      <td>All ages</td>\n",
       "      <td>All ages</td>\n",
       "      <td>0</td>\n",
       "      <td>0.0</td>\n",
       "      <td>NaN</td>\n",
       "    </tr>\n",
       "    <tr>\n",
       "      <th>3</th>\n",
       "      <td>Amador</td>\n",
       "      <td>2015</td>\n",
       "      <td>Total population</td>\n",
       "      <td>All ages</td>\n",
       "      <td>All ages</td>\n",
       "      <td>196</td>\n",
       "      <td>58.4</td>\n",
       "      <td>NaN</td>\n",
       "    </tr>\n",
       "    <tr>\n",
       "      <th>4</th>\n",
       "      <td>Butte</td>\n",
       "      <td>2015</td>\n",
       "      <td>Total population</td>\n",
       "      <td>All ages</td>\n",
       "      <td>All ages</td>\n",
       "      <td>1,044</td>\n",
       "      <td>50.2</td>\n",
       "      <td>NaN</td>\n",
       "    </tr>\n",
       "  </tbody>\n",
       "</table>\n",
       "</div>"
      ],
      "text/plain": [
       "       COUNTY  YEAR            STRATA STRATA NAME AGE GROUP  \\\n",
       "0  California  2015  Total population    All ages  All ages   \n",
       "1     Alameda  2015  Total population    All ages  All ages   \n",
       "2      Alpine  2015  Total population    All ages  All ages   \n",
       "3      Amador  2015  Total population    All ages  All ages   \n",
       "4       Butte  2015  Total population    All ages  All ages   \n",
       "\n",
       "  NUMBER OF ED VISITS  AGE-ADJUSTED ED VISIT RATE COMMENT  \n",
       "0             191,904                        50.4     NaN  \n",
       "1               9,939                        64.3     NaN  \n",
       "2                   0                         0.0     NaN  \n",
       "3                 196                        58.4     NaN  \n",
       "4               1,044                        50.2     NaN  "
      ]
     },
     "execution_count": 7,
     "metadata": {},
     "output_type": "execute_result"
    }
   ],
   "source": [
    "df.head()"
   ]
  },
  {
   "cell_type": "code",
   "execution_count": 8,
   "metadata": {},
   "outputs": [
    {
     "data": {
      "text/plain": [
       "COUNTY                         object\n",
       "YEAR                            int64\n",
       "STRATA                         object\n",
       "STRATA NAME                    object\n",
       "AGE GROUP                      object\n",
       "NUMBER OF ED VISITS            object\n",
       "AGE-ADJUSTED ED VISIT RATE    float64\n",
       "COMMENT                        object\n",
       "dtype: object"
      ]
     },
     "execution_count": 8,
     "metadata": {},
     "output_type": "execute_result"
    }
   ],
   "source": [
    "df.dtypes"
   ]
  },
  {
   "cell_type": "code",
   "execution_count": 10,
   "metadata": {},
   "outputs": [
    {
     "data": {
      "text/plain": [
       "count    3768.000000\n",
       "mean       51.402946\n",
       "std        73.158489\n",
       "min         0.000000\n",
       "25%        24.875000\n",
       "50%        40.200000\n",
       "75%        61.700000\n",
       "max      3531.000000\n",
       "Name: AGE-ADJUSTED ED VISIT RATE, dtype: float64"
      ]
     },
     "execution_count": 10,
     "metadata": {},
     "output_type": "execute_result"
    }
   ],
   "source": [
    "edvr = df['AGE-ADJUSTED ED VISIT RATE']\n",
    "edvr.describe()"
   ]
  },
  {
   "cell_type": "code",
   "execution_count": null,
   "metadata": {},
   "outputs": [],
   "source": []
  }
 ],
 "metadata": {
  "kernelspec": {
   "display_name": "datascience",
   "language": "python",
   "name": "python3"
  },
  "language_info": {
   "codemirror_mode": {
    "name": "ipython",
    "version": 3
   },
   "file_extension": ".py",
   "mimetype": "text/x-python",
   "name": "python",
   "nbconvert_exporter": "python",
   "pygments_lexer": "ipython3",
   "version": "3.12.1"
  }
 },
 "nbformat": 4,
 "nbformat_minor": 2
}
